{
 "cells": [
  {
   "cell_type": "markdown",
   "id": "bd9c8ad5-c949-4103-a082-5ae0973b44cd",
   "metadata": {},
   "source": [
    "\n",
    "\n",
    "\n",
    "<div dir=\"rtl\" style=\"text-align: right; font-size: 16px;\">\n",
    "\n",
    "# **متغیرها در پایتون**\n",
    "\n",
    "### **متغیر چیست؟**\n",
    "در برنامه‌نویسی، **متغیر** (Variable) یک فضای ذخیره‌سازی در حافظه است که برای نگهداری داده‌ها استفاده می‌شود. متغیرها به شما اجازه می‌دهند داده‌ها را با یک نام مشخص ذخیره کنید تا بتوانید در طول برنامه به راحتی به آن‌ها دسترسی داشته باشید و از آن‌ها استفاده کنید.\n",
    "\n",
    "---\n",
    "\n",
    "### **ویژگی‌های متغیرها در پایتون**\n",
    "1. **نام‌گذاری:** هر متغیر یک نام منحصر‌به‌فرد دارد که برای دسترسی به مقدار آن استفاده می‌شود.\n",
    "2. **داینامیک تایپ:** در پایتون نیازی نیست که نوع داده را از قبل مشخص کنید؛ پایتون به صورت خودکار نوع داده را بر اساس مقدار متغیر تشخیص می‌دهد.\n",
    "3. **قابلیت تغییر مقدار:** مقدار ذخیره شده در متغیرها می‌تواند در طول برنامه تغییر کند.\n",
    "4. **فضای ذخیره‌سازی موقت:** متغیرها داده‌ها را در حافظه سیستم به صورت موقت ذخیره می‌کنند.\n",
    "\n",
    "---\n",
    "\n",
    "### **چرا از متغیرها استفاده می‌کنیم؟**\n",
    "- **برای ذخیره اطلاعات:** مانند اعداد، رشته‌ها یا داده‌های پیچیده.\n",
    "- **برای استفاده مجدد از مقادیر:** می‌توانید به جای استفاده مکرر از یک مقدار، آن را در متغیر ذخیره کرده و بارها از آن استفاده کنید.\n",
    "- **برای خوانایی بیشتر کد:** استفاده از متغیرها باعث می‌شود کد شما قابل‌فهم‌تر و سازمان‌یافته‌تر باشد.\n",
    "- **برای انجام محاسبات و پردازش داده‌ها:** داده‌های ذخیره شده در متغیرها می‌توانند به راحتی در محاسبات و عملیات استفاده شوند.\n",
    "\n",
    "---\n",
    "\n",
    "### **نمونه‌ای از تعریف متغیر در پایتون**\n",
    "</div>\n",
    "\n",
    "```python\n",
    "# تعریف متغیر و مقداردهی اولیه\n",
    "name = \"Ali\"        # متغیر رشته‌ای\n",
    "age = 25            # متغیر عدد صحیح\n",
    "height = 175.5      # متغیر عدد اعشاری\n",
    "is_student = True   # متغیر منطقی\n",
    "\n",
    "# استفاده از متغیرها\n",
    "print(f\"My name is {name}. I am {age} years old.\")\n",
    "```\n",
    "\n",
    "<div dir=\"rtl\" style=\"text-align: right; font-size: 16px;\">\n",
    "\n",
    "---\n",
    "\n",
    "### **قواعد نام‌گذاری متغیرها در پایتون**\n",
    "1. نام متغیر باید با **حرف** یا **کاراکتر underscore (`_`)** شروع شود.\n",
    "2. نام متغیر نمی‌تواند با عدد شروع شود.\n",
    "3. فقط از حروف، اعداد و underscore می‌توانید استفاده کنید.\n",
    "4. نام متغیر به حروف بزرگ و کوچک حساس است (مثلاً `Name` و `name` دو متغیر متفاوت هستند).\n",
    "5. نمی‌توانید از **کلمات کلیدی (Keywords)** پایتون مثل `if`, `while`, `def` به عنوان نام متغیر استفاده کنید.\n",
    "\n",
    "**مثال:**\n",
    "</div>\n",
    "\n",
    "```python\n",
    "# معتبر:\n",
    "my_var = 10\n",
    "_var1 = \"Python\"\n",
    "number_2 = 5.5\n",
    "\n",
    "# نامعتبر:\n",
    "2number = 5     # نمی‌تواند با عدد شروع شود\n",
    "if = 10         # کلمه کلیدی استفاده شده است\n",
    "```\n",
    "\n",
    "<div dir=\"rtl\" style=\"text-align: right; font-size: 16px;\">\n",
    "\n",
    "---\n",
    "\n",
    "### **نکته مهم درباره نوع داده‌ها در متغیرها**\n",
    "پایتون به صورت **داینامیک تایپ** عمل می‌کند، به این معنی که نوع داده متغیر بر اساس مقدار آن تعیین می‌شود و می‌تواند در طول برنامه تغییر کند.\n",
    "\n",
    "**مثال:**\n",
    "</div>\n",
    "\n",
    "```python\n",
    "x = 10           # x عدد صحیح (int) است\n",
    "x = \"Hello\"      # حالا x رشته (str) است\n",
    "x = 3.14         # حالا x عدد اعشاری (float) است\n",
    "```\n",
    "\n",
    "<div dir=\"rtl\" style=\"text-align: right; font-size: 16px;\">\n",
    "\n",
    "---\n",
    "\n",
    "### **مزایای استفاده از متغیرها**\n",
    "1. **سادگی در استفاده و مدیریت داده‌ها.**\n",
    "2. **بهبود خوانایی و سازمان‌دهی کد.**\n",
    "3. **کاهش پیچیدگی در محاسبات.**\n",
    "4. **امکان تغییر مقدار بدون تغییر در کل برنامه.**\n",
    "\n",
    "---\n",
    "\n",
    "### **نتیجه‌گیری**\n",
    "متغیرها یکی از اجزای اصلی هر زبان برنامه‌نویسی هستند و در ذخیره و مدیریت داده‌ها نقش مهمی دارند. در پایتون، متغیرها به دلیل داینامیک تایپ بودن و انعطاف‌پذیری بالا، بسیار آسان و قدرتمند هستند. یادگیری نحوه استفاده صحیح از متغیرها یکی از گام‌های اساسی در یادگیری برنامه‌نویسی است. 🚀\n",
    "\n",
    "</div>\n",
    "\n",
    "\n",
    "\n",
    "\n",
    "\n",
    "\n",
    "![تصویر نمونه](images/1.png)\n"
   ]
  },
  {
   "cell_type": "markdown",
   "id": "2726df6a-b168-4b13-aba6-876827266c39",
   "metadata": {},
   "source": [
    "###  مثال"
   ]
  },
  {
   "cell_type": "code",
   "execution_count": 15,
   "id": "2db33d7b-0a3e-40eb-90da-7d1b94cf5b8d",
   "metadata": {},
   "outputs": [],
   "source": [
    "age = 25\n",
    "name = \"Ali\"\n",
    "_height = 180.5\n",
    "student_name = \"Sara\"\n"
   ]
  },
  {
   "cell_type": "code",
   "execution_count": 17,
   "id": "8606775f-2e2e-475e-988a-e11094b34952",
   "metadata": {},
   "outputs": [
    {
     "ename": "SyntaxError",
     "evalue": "invalid decimal literal (510683833.py, line 1)",
     "output_type": "error",
     "traceback": [
      "\u001b[1;36m  Cell \u001b[1;32mIn[17], line 1\u001b[1;36m\u001b[0m\n\u001b[1;33m    2name = \"Ali\"   # خطا: متغیر نمی‌تواند با عدد شروع شود\u001b[0m\n\u001b[1;37m    ^\u001b[0m\n\u001b[1;31mSyntaxError\u001b[0m\u001b[1;31m:\u001b[0m invalid decimal literal\n"
     ]
    }
   ],
   "source": [
    "2name = \"Ali\"   # خطا: متغیر نمی‌تواند با عدد شروع شود\n"
   ]
  },
  {
   "cell_type": "code",
   "execution_count": 18,
   "id": "3e661901-1a8a-4615-b43e-40e59cb91c6e",
   "metadata": {},
   "outputs": [
    {
     "ename": "SyntaxError",
     "evalue": "cannot assign to expression here. Maybe you meant '==' instead of '='? (3233755174.py, line 1)",
     "output_type": "error",
     "traceback": [
      "\u001b[1;36m  Cell \u001b[1;32mIn[18], line 1\u001b[1;36m\u001b[0m\n\u001b[1;33m    user@name = \"Reza\"   # خطا: کاراکتر @ مجاز نیست\u001b[0m\n\u001b[1;37m    ^\u001b[0m\n\u001b[1;31mSyntaxError\u001b[0m\u001b[1;31m:\u001b[0m cannot assign to expression here. Maybe you meant '==' instead of '='?\n"
     ]
    }
   ],
   "source": [
    "user@name = \"Reza\"   # خطا: کاراکتر @ مجاز نیست\n",
    "my-var = 20          # خطا: کاراکتر \"-\" در نام متغیر مجاز نیست\n"
   ]
  },
  {
   "cell_type": "code",
   "execution_count": 19,
   "id": "7a83f849-83e6-46c5-a2a3-bead2fede9fd",
   "metadata": {},
   "outputs": [
    {
     "ename": "SyntaxError",
     "evalue": "invalid syntax (2586050186.py, line 1)",
     "output_type": "error",
     "traceback": [
      "\u001b[1;36m  Cell \u001b[1;32mIn[19], line 1\u001b[1;36m\u001b[0m\n\u001b[1;33m    class = \"Python\"   # خطا: \"class\" یک کلمه کلیدی در پایتون است\u001b[0m\n\u001b[1;37m          ^\u001b[0m\n\u001b[1;31mSyntaxError\u001b[0m\u001b[1;31m:\u001b[0m invalid syntax\n"
     ]
    }
   ],
   "source": [
    "class = \"Python\"   # خطا: \"class\" یک کلمه کلیدی در پایتون است\n",
    "def = 50           # خطا: \"def\" یک کلمه کلیدی است\n"
   ]
  },
  {
   "cell_type": "markdown",
   "id": "48db6ca8-d4f4-4e69-8abc-3c0d23441b64",
   "metadata": {},
   "source": [
    "📌\n",
    "\n",
    "###  نکته: برای مشاهده لیست کلمات کلیدی پایتون، از دستور زیر استفاده کنید؟\n"
   ]
  },
  {
   "cell_type": "code",
   "execution_count": 6,
   "id": "fb8fdedb-5240-42a2-9068-f1be2f39cab2",
   "metadata": {},
   "outputs": [
    {
     "name": "stdout",
     "output_type": "stream",
     "text": [
      "['False', 'None', 'True', 'and', 'as', 'assert', 'async', 'await', 'break', 'class', 'continue', 'def', 'del', 'elif', 'else', 'except', 'finally', 'for', 'from', 'global', 'if', 'import', 'in', 'is', 'lambda', 'nonlocal', 'not', 'or', 'pass', 'raise', 'return', 'try', 'while', 'with', 'yield']\n"
     ]
    }
   ],
   "source": [
    "import keyword\n",
    "print(keyword.kwlist)\n"
   ]
  },
  {
   "cell_type": "code",
   "execution_count": 22,
   "id": "7e13663e-763b-4935-809d-f6678922cf15",
   "metadata": {},
   "outputs": [
    {
     "ename": "SyntaxError",
     "evalue": "invalid syntax (2825072847.py, line 1)",
     "output_type": "error",
     "traceback": [
      "\u001b[1;36m  Cell \u001b[1;32mIn[22], line 1\u001b[1;36m\u001b[0m\n\u001b[1;33m    student name = \"Ali\"  # خطا: فضای خالی بین کلمات مجاز نیست\u001b[0m\n\u001b[1;37m            ^\u001b[0m\n\u001b[1;31mSyntaxError\u001b[0m\u001b[1;31m:\u001b[0m invalid syntax\n"
     ]
    }
   ],
   "source": [
    "student name = \"Ali\"  # خطا: فضای خالی بین کلمات مجاز نیست\n"
   ]
  },
  {
   "cell_type": "markdown",
   "id": "d98ea67e-01df-41ac-8bcb-012a4dbae1be",
   "metadata": {},
   "source": [
    "\n",
    "###  تعریف متغیرها به روش‌های مختلف\n",
    "\n"
   ]
  },
  {
   "cell_type": "code",
   "execution_count": 24,
   "id": "a8fc97b7-7a5f-4644-a467-7abcd626f8c0",
   "metadata": {},
   "outputs": [
    {
     "name": "stdout",
     "output_type": "stream",
     "text": [
      "100\n"
     ]
    }
   ],
   "source": [
    "x, y, z = 10, 20, 30\n",
    "a = b = c = 100\n",
    "print(a)"
   ]
  },
  {
   "cell_type": "code",
   "execution_count": 9,
   "id": "4c07f49e-b7a3-4e8f-aad6-8fd8dce60c1c",
   "metadata": {},
   "outputs": [
    {
     "ename": "TypeError",
     "evalue": "can only concatenate str (not \"int\") to str",
     "output_type": "error",
     "traceback": [
      "\u001b[1;31m---------------------------------------------------------------------------\u001b[0m",
      "\u001b[1;31mTypeError\u001b[0m                                 Traceback (most recent call last)",
      "Cell \u001b[1;32mIn[9], line 1\u001b[0m\n\u001b[1;32m----> 1\u001b[0m age \u001b[38;5;241m=\u001b[39m \u001b[38;5;124;43m\"\u001b[39;49m\u001b[38;5;124;43m25\u001b[39;49m\u001b[38;5;124;43m\"\u001b[39;49m\u001b[43m \u001b[49m\u001b[38;5;241;43m+\u001b[39;49m\u001b[43m \u001b[49m\u001b[38;5;241;43m2\u001b[39;49m  \u001b[38;5;66;03m# خطا: نمی‌توان عدد را با رشته جمع کرد\u001b[39;00m\n",
      "\u001b[1;31mTypeError\u001b[0m: can only concatenate str (not \"int\") to str"
     ]
    }
   ],
   "source": [
    "age = \"25\" + 2  # خطا: نمی‌توان عدد را با رشته جمع کرد\n"
   ]
  },
  {
   "cell_type": "markdown",
   "id": "2195e781-b1ca-48af-a309-9338f8d8aa1d",
   "metadata": {},
   "source": [
    "<div dir=\"rtl\" style=\"text-align: right;\">\n",
    "\n",
    "# **انواع متغیرها در پایتون**\n",
    "\n",
    "متغیرها در پایتون می‌توانند انواع مختلفی از داده‌ها را ذخیره کنند. در جدول زیر، انواع متغیرها همراه با توضیح و مثال آورده شده است.\n",
    "\n",
    "</div>\n",
    "\n",
    "| **نوع داده**      | **توضیح**                                         | **مثال**                   |\n",
    "|------------------|------------------------------------------------|---------------------------|\n",
    "| **عدد صحیح (int)**  | برای ذخیره اعداد صحیح (بدون اعشار)            | `x = 10`                 |\n",
    "| **عدد اعشاری (float)** | برای ذخیره اعداد با قسمت اعشاری              | `y = 3.14`               |\n",
    "| **رشته (str)**    | برای ذخیره متن (داخل `' '` یا `\" \"`)             | `name = \"Ali\"`           |\n",
    "| **منطقی (bool)**  | برای ذخیره مقادیر درست (`True`) یا غلط (`False`) | `is_active = True`       |\n",
    "| **لیست (list)**   | مجموعه‌ای از مقادیر که قابل تغییر هستند         | `numbers = [1, 2, 3]`    |\n",
    "| **تاپل (tuple)**  | مجموعه‌ای از مقادیر که **غیرقابل تغییر** هستند  | `coordinates = (10, 20)` |\n",
    "| **مجموعه (set)**  | مجموعه‌ای از مقادیر **منحصربه‌فرد** (بدون ترتیب) | `unique_numbers = {1, 2, 3}` |\n",
    "| **دیکشنری (dict)** | مجموعه‌ای از داده‌ها به صورت `کلید: مقدار`     | `student = {\"name\": \"Ali\", \"age\": 20}` |\n",
    "| **هیچ (NoneType)** | برای متغیرهایی که مقدار خاصی ندارند            | `result = None`          |\n",
    "| **بایت‌ها (bytes)** | برای ذخیره داده‌های دودویی                     | `data = b\"Hello\"`        |\n",
    "\n",
    "---\n",
    "\n",
    "<div dir=\"rtl\" style=\"text-align: right;\">\n",
    "\n"
   ]
  },
  {
   "cell_type": "code",
   "execution_count": null,
   "id": "937a7c3d-95a2-4e65-988e-ed16fade054a",
   "metadata": {},
   "outputs": [],
   "source": []
  }
 ],
 "metadata": {
  "kernelspec": {
   "display_name": "Python 3 (ipykernel)",
   "language": "python",
   "name": "python3"
  },
  "language_info": {
   "codemirror_mode": {
    "name": "ipython",
    "version": 3
   },
   "file_extension": ".py",
   "mimetype": "text/x-python",
   "name": "python",
   "nbconvert_exporter": "python",
   "pygments_lexer": "ipython3",
   "version": "3.10.16"
  }
 },
 "nbformat": 4,
 "nbformat_minor": 5
}
